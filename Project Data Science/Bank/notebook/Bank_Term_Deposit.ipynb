{
 "cells": [
  {
   "cell_type": "markdown",
   "metadata": {
    "id": "GFDix7y2np12"
   },
   "source": [
    "# **Bank Term Deposit**"
   ]
  },
  {
   "cell_type": "markdown",
   "metadata": {
    "id": "tFo9ls0vQEd6"
   },
   "source": [
    "dataset : https://www.kaggle.com/datasets/janiobachmann/bank-marketing-dataset"
   ]
  },
  {
   "cell_type": "markdown",
   "metadata": {
    "id": "EKRk10h_n_fL"
   },
   "source": [
    "## **Introduction and Project Goals**"
   ]
  },
  {
   "cell_type": "markdown",
   "metadata": {
    "id": "_NkTvvrropYr"
   },
   "source": [
    "**Problem Statment :**\n",
    "\n",
    "The bank's telemarketing campaigns have low conversion rates and are resource intensive. The bank wants to reduce cost overruns by targeting customers who are highly likely to purchase term deposits, but currently lacks an effective predictive tool to proactively identify such customers.\n",
    "\n",
    "**Project Goals :**\n",
    "*   Determine clusters among the sample population that will most likely open term deposit accounts.\n",
    "\n",
    "**What is a Term Deposit?**\n",
    "\n",
    "A Term deposit is a deposit that a bank or a financial institurion offers with a fixed rate (often better than just opening deposit account) in which your money will be returned back at a specific maturity time.\n",
    "\n",
    "---\n",
    "\n",
    "**RISP-DM Sample Framework**\n",
    "1. **Business Understanding**\n",
    "\n",
    "Understand the bank's business needs: increase the effectiveness of marketing campaigns for term deposits, and reduce contact costs to uninterested customers.\n",
    "\n",
    "2. **Data Understanding**\n",
    "\n",
    "Conduct initial exploration of customer data and contact history, identify variable distributions, missing values, and early patterns that emerge (e.g., the influence of a particular job or month on success).\n",
    "\n",
    "3. **Data Preparation**\n",
    "\n",
    "Clean the data, handle 'unknown' values, convert categorical variables into numeric formats (one-hot encoding/label encoding)\n",
    "\n",
    "4. **Exploratory Data Analyst**\n",
    "\n",
    "Focus on discovery and insight into data\n",
    "\n",
    "5. **Modeling**\n",
    "\n",
    "Build several prediction models (e.g.: Logistic Regression, Decision Tree, Random Forest, XGBoost) and evaluate their performance based on metrics such as Accuracy, Precision, Recall, and AUC.\n",
    "\n",
    "6. **Evaluation**\n",
    "\n",
    "Assess whether the model has met the business objectives: prediction accuracy and feature interpretation. Compare models and choose the best one according to the business context."
   ]
  },
  {
   "cell_type": "markdown",
   "metadata": {
    "id": "bxf28lzksbSX"
   },
   "source": [
    "Attributes Description:\n",
    "\n",
    "Input variables:\n",
    "\n",
    "**bank client data:**\n",
    "1. age: (numeric)\n",
    "2. job: type of job (categorical: 'admin.','blue-collar','entrepreneur','housemaid','management','retired','self-employed','services','student','technician','unemployed','unknown')\n",
    "3. marital: marital status (categorical: 'divorced','married','single','unknown'; note: 'divorced' means divorced or widowed)\n",
    "4. education: (categorical: primary, secondary, tertiary and unknown)\n",
    "5. default: has credit in default? (categorical: 'no','yes','unknown')\n",
    "6. housing: has housing loan? (categorical: 'no','yes','unknown')\n",
    "7. loan: has personal loan? (categorical: 'no','yes','unknown')\n",
    "8. balance: Balance of the individual.\n",
    "\n",
    "\n",
    "**Related with the last contact of the current campaign:**\n",
    "9. contact: contact communication type (categorical: 'cellular','telephone')\n",
    "10. month: last contact month of year (categorical: 'jan', 'feb', 'mar', ..., 'nov', 'dec')\n",
    "11. day: last contact day of the week (categorical: 'mon','tue','wed','thu','fri')\n",
    "12. duration: last contact duration, in seconds (numeric). Important note: this attribute highly affects the output target (e.g., if duration=0 then y='no'). Yet, the duration is not known before a call is performed. Also, after the end of the call y is obviously known. Thus, this input should only be included for benchmark purposes and should be discarded if the intention is to have a realistic predictive model.\n",
    "\n",
    "**other attributes:**\n",
    "13. campaign: number of contacts performed during this campaign and for this client (numeric, includes last contact)\n",
    "14. pdays: number of days that passed by after the client was last contacted from a previous campaign (numeric; 999 means client was not previously contacted)\n",
    "15. previous: number of contacts performed before this campaign and for this client (numeric)\n",
    "16. poutcome: outcome of the previous marketing campaign (categorical: 'failure','nonexistent','success')\n",
    "\n",
    "**Output variable (desired target):**\n",
    "17. deposit - has the client subscribed a term deposit? (binary: 'yes','no')"
   ]
  },
  {
   "cell_type": "markdown",
   "metadata": {
    "id": "sOZpUeWKvgJf"
   },
   "source": [
    "## **Data Understanding**"
   ]
  },
  {
   "cell_type": "markdown",
   "metadata": {
    "id": "ohhcZZ2QvpkH"
   },
   "source": [
    "### **Import Library**"
   ]
  },
  {
   "cell_type": "code",
   "execution_count": null,
   "metadata": {
    "colab": {
     "base_uri": "https://localhost:8080/"
    },
    "id": "mNYZgOOVlLyy",
    "outputId": "0fa6978d-dbdc-4ced-ffb4-a81186b5c6f1"
   },
   "outputs": [],
   "source": [
    "from google.colab import drive\n",
    "drive.mount('/content/drive')"
   ]
  },
  {
   "cell_type": "code",
   "execution_count": null,
   "metadata": {
    "colab": {
     "base_uri": "https://localhost:8080/"
    },
    "id": "kn6kXLk2p5bQ",
    "outputId": "cbecff89-b921-4717-fefd-1f59f27d3227"
   },
   "outputs": [],
   "source": [
    "!pip install lazypredict\n",
    "!pip install plotly\n",
    "!pip install lightgbm"
   ]
  },
  {
   "cell_type": "code",
   "execution_count": null,
   "metadata": {
    "id": "cS_wJyJAlo3M"
   },
   "outputs": [],
   "source": [
    "import pandas as pd\n",
    "import numpy as np\n",
    "import matplotlib.pyplot as plt\n",
    "import seaborn as sns\n",
    "import warnings\n",
    "import plotly.express as px\n",
    "import plotly.graph_objects as go\n",
    "from plotly.subplots import make_subplots\n",
    "warnings.filterwarnings('ignore')\n",
    "\n",
    "# Machine Learning\n",
    "from sklearn.model_selection import train_test_split\n",
    "from sklearn.preprocessing import StandardScaler\n",
    "from sklearn.linear_model import LogisticRegression\n",
    "from sklearn.tree import DecisionTreeClassifier\n",
    "from sklearn.ensemble import RandomForestClassifier\n",
    "from xgboost import XGBClassifier\n",
    "from sklearn.metrics import accuracy_score, precision_score, recall_score, roc_auc_score, confusion_matrix\n",
    "from sklearn.model_selection import GridSearchCV\n",
    "from sklearn.preprocessing import LabelEncoder\n",
    "from statsmodels.stats.outliers_influence import variance_inflation_factor\n",
    "from lazypredict.Supervised import LazyClassifier\n",
    "from sklearn.metrics import classification_report\n",
    "from lightgbm import LGBMClassifier"
   ]
  },
  {
   "cell_type": "code",
   "execution_count": null,
   "metadata": {
    "colab": {
     "base_uri": "https://localhost:8080/",
     "height": 461
    },
    "id": "MJMVeQ5Elq-y",
    "outputId": "6752ad43-87fc-4dc3-a9cf-c211c642fd1e"
   },
   "outputs": [],
   "source": [
    "df = pd.read_csv('/content/drive/MyDrive/Project Data Science/Bank/bank.csv')\n",
    "df"
   ]
  },
  {
   "cell_type": "markdown",
   "metadata": {
    "id": "_N1zKsD4wSNw"
   },
   "source": [
    "The dataset has 11162 rows and 17 columns."
   ]
  },
  {
   "cell_type": "markdown",
   "metadata": {
    "id": "xPbMY5foyc_h"
   },
   "source": [
    "### **Checking Missing Value, Duplicated and Descriptive Statistic**"
   ]
  },
  {
   "cell_type": "code",
   "execution_count": null,
   "metadata": {
    "colab": {
     "base_uri": "https://localhost:8080/"
    },
    "id": "ftn4HotXwjx3",
    "outputId": "1e1ff440-10a7-4f42-cb89-aac90c240865"
   },
   "outputs": [],
   "source": [
    "df.info()"
   ]
  },
  {
   "cell_type": "code",
   "execution_count": null,
   "metadata": {
    "colab": {
     "base_uri": "https://localhost:8080/",
     "height": 630
    },
    "id": "bj08GeM-lyel",
    "outputId": "3da398c8-57d1-426c-be88-c899cb9ff966"
   },
   "outputs": [],
   "source": [
    "#checking missing value\n",
    "print(\"Duplicated Data : \", df.duplicated().sum())\n",
    "print(df.isna().sum())\n",
    "df.describe()"
   ]
  },
  {
   "cell_type": "code",
   "execution_count": null,
   "metadata": {
    "colab": {
     "base_uri": "https://localhost:8080/",
     "height": 175
    },
    "id": "z3ZGhwV-0q1h",
    "outputId": "18e26297-a8c3-48b3-9e37-8db7cc2eefaf"
   },
   "outputs": [],
   "source": [
    "df.describe(include='object')"
   ]
  },
  {
   "cell_type": "code",
   "execution_count": null,
   "metadata": {
    "colab": {
     "base_uri": "https://localhost:8080/",
     "height": 859
    },
    "id": "2FzJRADO0Gfc",
    "outputId": "36c044d8-d8bc-49be-85dd-f3e3d7eec759"
   },
   "outputs": [],
   "source": [
    "#checking distribution numerical data\n",
    "df.hist(bins=50, figsize=(20,15))\n",
    "plt.show()"
   ]
  },
  {
   "cell_type": "markdown",
   "metadata": {
    "id": "42STZM762EyS"
   },
   "source": [
    "## **Data Preparation**"
   ]
  },
  {
   "cell_type": "markdown",
   "metadata": {
    "id": "UqxCV2KJ6CFZ"
   },
   "source": [
    "### **Data Cleaning**"
   ]
  },
  {
   "cell_type": "code",
   "execution_count": null,
   "metadata": {
    "colab": {
     "base_uri": "https://localhost:8080/"
    },
    "id": "mTndLfXk6gfn",
    "outputId": "d67c0260-24a2-4e18-8ac5-e981e92f28f5"
   },
   "outputs": [],
   "source": [
    "# Handle Unknown into all column for encoding\n",
    "df = df.replace('unknown', np.nan)\n",
    "df.info()"
   ]
  },
  {
   "cell_type": "code",
   "execution_count": null,
   "metadata": {
    "colab": {
     "base_uri": "https://localhost:8080/"
    },
    "id": "KmgM5wLLD9-x",
    "outputId": "77e7b250-8a93-4eee-a66b-4d21958b6d40"
   },
   "outputs": [],
   "source": [
    "# drop poutcome and missing value handling\n",
    "df = df.drop('poutcome', axis=1)\n",
    "df = df.dropna()\n",
    "df.info()"
   ]
  },
  {
   "cell_type": "code",
   "execution_count": null,
   "metadata": {
    "colab": {
     "base_uri": "https://localhost:8080/"
    },
    "id": "LIzpeCCkNMII",
    "outputId": "e0bd4194-c80c-4461-e3ca-b656835daf90"
   },
   "outputs": [],
   "source": [
    "# Checking unique Value dan value count\n",
    "feature = df.columns.to_list()\n",
    "for i in feature:\n",
    "   print(f'the number of unique values of {i} is {len(df[i].unique())}')\n",
    "   values_counts = pd.DataFrame(df[i].value_counts())\n",
    "   print(f'the values of the {i} are : \\n{values_counts}')\n",
    "   print('=========================================')"
   ]
  },
  {
   "cell_type": "markdown",
   "metadata": {
    "id": "buycTKcx6Odw"
   },
   "source": [
    "### **Feature Engineering**"
   ]
  },
  {
   "cell_type": "markdown",
   "metadata": {
    "id": "aDDDd9vLNHgU"
   },
   "source": [
    "**Encode Categorical**"
   ]
  },
  {
   "cell_type": "code",
   "execution_count": null,
   "metadata": {
    "colab": {
     "base_uri": "https://localhost:8080/",
     "height": 580
    },
    "id": "HI5n_P1ANUQ1",
    "outputId": "ca7dd97b-96db-446e-8b5d-c841eb345daf"
   },
   "outputs": [],
   "source": [
    "categorical_cols = df.select_dtypes(include=['object']).columns\n",
    "label_encoder = LabelEncoder()\n",
    "df[categorical_cols] = df[categorical_cols].apply(label_encoder.fit_transform)\n",
    "df.T"
   ]
  },
  {
   "cell_type": "markdown",
   "metadata": {
    "id": "nL9XTY6MQJ71"
   },
   "source": [
    "**Correlation Column**"
   ]
  },
  {
   "cell_type": "code",
   "execution_count": null,
   "metadata": {
    "colab": {
     "base_uri": "https://localhost:8080/",
     "height": 866
    },
    "id": "jEGopEL_Oo40",
    "outputId": "6c80ec0f-df2b-4733-a3bc-9eee4f44e835"
   },
   "outputs": [],
   "source": [
    "plt.figure(figsize=(15, 10))\n",
    "correlation_matrix = df.corr()\n",
    "sns.heatmap(correlation_matrix, annot=True, cmap='coolwarm')\n",
    "plt.title('Correlation Matrix')\n",
    "plt.show()"
   ]
  },
  {
   "cell_type": "markdown",
   "metadata": {
    "id": "Y89zT-dLZXUe"
   },
   "source": [
    "**VIF**"
   ]
  },
  {
   "cell_type": "code",
   "execution_count": null,
   "metadata": {
    "colab": {
     "base_uri": "https://localhost:8080/",
     "height": 551
    },
    "id": "UZf8oSQiZbHv",
    "outputId": "4f6b2c6b-3b4d-4aca-bb97-e802d2022823"
   },
   "outputs": [],
   "source": [
    "def calculate_vif(df):\n",
    "    vif = pd.DataFrame()\n",
    "    vif[\"variables\"] = df.columns\n",
    "    vif[\"VIF\"] = [variance_inflation_factor(df.values, i) for i in range(df.shape[1])]\n",
    "    return vif\n",
    "\n",
    "calculate_vif(df)"
   ]
  },
  {
   "cell_type": "markdown",
   "metadata": {
    "id": "eudbxFF6g1v9"
   },
   "source": [
    "**Split Data**"
   ]
  },
  {
   "cell_type": "code",
   "execution_count": null,
   "metadata": {
    "colab": {
     "base_uri": "https://localhost:8080/"
    },
    "id": "k629hyjjg1Af",
    "outputId": "32389f7e-1393-4cab-a208-2b6b26336f24"
   },
   "outputs": [],
   "source": [
    "X = df.drop('deposit', axis=1)\n",
    "y = df['deposit']\n",
    "X_train, X_test, y_train, y_test = train_test_split(X, y, test_size=0.2, random_state=42)\n",
    "print(X_train.shape)\n",
    "print(X_test.shape)"
   ]
  },
  {
   "cell_type": "markdown",
   "metadata": {
    "id": "5Q443JlZgQNq"
   },
   "source": [
    "## **Exploratory Data Analyst**"
   ]
  },
  {
   "cell_type": "markdown",
   "metadata": {
    "id": "zXzBV4i6geKW"
   },
   "source": [
    "### **Distribution Target Variable**"
   ]
  },
  {
   "cell_type": "code",
   "execution_count": null,
   "metadata": {
    "colab": {
     "base_uri": "https://localhost:8080/"
    },
    "id": "n0a_HqN7Z3LJ",
    "outputId": "04b1960d-3f68-4bc7-93e4-af4cf2c35925"
   },
   "outputs": [],
   "source": [
    "plt.figure(figsize=(8, 6))\n",
    "ax = sns.countplot(x='deposit', data=df, palette='vlag')\n",
    "total = len(df)\n",
    "\n",
    "# Tambahkan label jumlah dan persentase di atas batang\n",
    "for p in ax.patches:\n",
    "    count = int(p.get_height())\n",
    "    percentage = 100 * count / total\n",
    "    x = p.get_x() + p.get_width() / 2\n",
    "    y = p.get_height()\n",
    "    ax.annotate(f'{count}\\n({percentage:.1f}%)', (x, y), ha='center', va='bottom')\n",
    "\n",
    "plt.xlabel('Deposit')\n",
    "plt.ylabel('Count')\n",
    "plt.title('Distribution of Target Variable')\n",
    "plt.show()"
   ]
  },
  {
   "cell_type": "markdown",
   "metadata": {
    "id": "jxhu0d5XLVhh"
   },
   "source": [
    "* **53.8%** of the Clients are not subsribed for the Term Deposits.\n",
    "* only **46.2%** are subsribed to the term deposits"
   ]
  },
  {
   "cell_type": "markdown",
   "metadata": {
    "id": "JPR1HP6Tu7CY"
   },
   "source": [
    "### **Analyst Categorical Variable**"
   ]
  },
  {
   "cell_type": "markdown",
   "metadata": {
    "id": "71UWxuZCvLRg"
   },
   "source": [
    "**Job by Customer**"
   ]
  },
  {
   "cell_type": "code",
   "execution_count": null,
   "metadata": {
    "colab": {
     "base_uri": "https://localhost:8080/",
     "height": 607
    },
    "id": "WGTdV_oniYSO",
    "outputId": "5a3c279e-641f-462c-f336-ebbe47ee8fe0"
   },
   "outputs": [],
   "source": [
    "job_map = {\n",
    "    0: 'admin.',\n",
    "    1: 'blue-collar',\n",
    "    2: 'entrepreneur',\n",
    "    3: 'housemaid',\n",
    "    4: 'management',\n",
    "    5: 'retired',\n",
    "    6: 'self-employed',\n",
    "    7: 'services',\n",
    "    8: 'student',\n",
    "    9: 'technician',\n",
    "    10: 'unemployed'\n",
    "}\n",
    "\n",
    "X_train['job'] = X_train['job'].map(job_map)\n",
    "\n",
    "# Hitung dan urutkan berdasarkan Count\n",
    "job_counts = X_train['job'].value_counts().reset_index()\n",
    "job_counts.columns = ['Job', 'Count']\n",
    "\n",
    "# Ambil urutan job dari data yang sudah di-sort\n",
    "job_order = job_counts['Job']\n",
    "\n",
    "# Plot\n",
    "plt.figure(figsize=(10,6))\n",
    "ax = sns.barplot(data=job_counts, x='Job', y='Count', palette='vlag', order=job_order)\n",
    "\n",
    "# Tambah label count di atas batang\n",
    "for i in ax.patches:\n",
    "    ax.annotate(f\"{int(i.get_height())}\",\n",
    "                (i.get_x() + i.get_width() / 2, i.get_height()),\n",
    "                ha='center', va='bottom', fontsize=10)\n",
    "\n",
    "plt.title(\"Job Type of the Customers\")\n",
    "plt.xlabel(\"Job\")\n",
    "plt.ylabel(\"Count\")\n",
    "plt.xticks(rotation=45)\n",
    "plt.tight_layout()\n",
    "plt.show()\n"
   ]
  },
  {
   "cell_type": "markdown",
   "metadata": {
    "id": "QKKNLEFWuRrf"
   },
   "source": [
    "**Top Total Job Type by the Customers**\n",
    "\n",
    "4) management      1714\n",
    "\n",
    "9) technician      1139\n",
    "\n",
    "1) blue-collar     940\n",
    "\n",
    "0) admin.          833\n",
    "\n",
    "5) retired          519\n",
    "\n",
    "7) services         516\n",
    "\n",
    "6) self-employed    246\n",
    "\n",
    "10) unemployed       231\n",
    "\n",
    "8) student          223\n",
    "\n",
    "2)entrepreneur     186\n",
    "\n",
    "3) housemaid        167\n",
    "\n",
    "\n",
    "---\n",
    "\n"
   ]
  },
  {
   "cell_type": "markdown",
   "metadata": {
    "id": "WPusa3UrvQiA"
   },
   "source": [
    "**Marital Status by Customers**"
   ]
  },
  {
   "cell_type": "code",
   "execution_count": null,
   "metadata": {
    "colab": {
     "base_uri": "https://localhost:8080/",
     "height": 675
    },
    "id": "vMW8UZZ0varO",
    "outputId": "4accbf6b-55c5-4b21-8d4a-f2b21ac5b05f"
   },
   "outputs": [],
   "source": [
    "marital_map = {\n",
    "    0: 'divorced',\n",
    "    1: 'married',\n",
    "    2: 'single'\n",
    "}\n",
    "\n",
    "X_train['marital'] = X_train['marital'].map(marital_map)\n",
    "\n",
    "# Hitung jumlah tiap kategori\n",
    "marital_counts = X_train['marital'].value_counts()\n",
    "labels = marital_counts.index\n",
    "counts = marital_counts.values\n",
    "\n",
    "# Buat fungsi format label persentase + count\n",
    "def make_autopct(counts):\n",
    "    def my_autopct(pct):\n",
    "        total = sum(counts)\n",
    "        val = int(round(pct * total / 100.0))\n",
    "        return f'{pct:.1f}%\\n({val})'\n",
    "    return my_autopct\n",
    "\n",
    "# Plot pie chart\n",
    "plt.figure(figsize=(8, 8))\n",
    "plt.pie(counts, labels=None, autopct=make_autopct(counts),\n",
    "        colors=plt.cm.Set2.colors, startangle=90, textprops={'fontsize': 12})\n",
    "plt.title('Marital Status of the Customers')\n",
    "\n",
    "# Tambahkan legenda di luar chart\n",
    "plt.legend(labels=labels, title=\"Marital Status\", loc='center left', bbox_to_anchor=(1, 0.5))\n",
    "plt.axis('equal')\n",
    "plt.show()"
   ]
  },
  {
   "cell_type": "markdown",
   "metadata": {
    "id": "HmjX4o4-zjjv"
   },
   "source": [
    "**Top Marital Status of the Customers**\n",
    "\n",
    "1) married    (3765)\n",
    "\n",
    "2) single     (2180)\n",
    "\n",
    "0) divorced   (769)\n",
    "\n",
    "\n",
    "---\n",
    "\n"
   ]
  },
  {
   "cell_type": "markdown",
   "metadata": {
    "id": "JtgMGJdTxEsv"
   },
   "source": [
    "**Education by Customers**"
   ]
  },
  {
   "cell_type": "code",
   "execution_count": null,
   "metadata": {
    "colab": {
     "base_uri": "https://localhost:8080/",
     "height": 607
    },
    "id": "aNE9ecwqxMdX",
    "outputId": "933c49ac-d03d-4a7f-e79c-7a5968e5331f"
   },
   "outputs": [],
   "source": [
    "education_map = {\n",
    "    0: 'primary',\n",
    "    1: 'secondary',\n",
    "    2: 'tertiary'\n",
    "}\n",
    "\n",
    "X_train['education'] = X_train['education'].map(education_map)\n",
    "\n",
    "# Hitung jumlah masing-masing kategori education\n",
    "education_order = X_train['education'].value_counts().index\n",
    "\n",
    "# Plot\n",
    "plt.figure(figsize=(10,6))\n",
    "ax = sns.countplot(data=X_train, x='education', palette='vlag', order=education_order)\n",
    "total = len(X_train)\n",
    "\n",
    "# Tambahkan count dan persentase di dalam batang\n",
    "for p in ax.patches:\n",
    "    count = int(p.get_height())\n",
    "    percentage = 100 * count / total\n",
    "    x = p.get_x() + p.get_width() / 2\n",
    "    y = p.get_height() / 2\n",
    "    ax.annotate(f'{count}\\n({percentage:.1f}%)', (x, y), ha='center', va='center', color='black', fontsize=10)\n",
    "\n",
    "plt.xlabel('Education')\n",
    "plt.ylabel('Count')\n",
    "plt.title('Education of the Customers')\n",
    "plt.tight_layout()\n",
    "plt.show()\n"
   ]
  },
  {
   "cell_type": "markdown",
   "metadata": {
    "id": "PQ24mkQozTgR"
   },
   "source": [
    "**Top Education of the Customers**\n",
    "\n",
    "1) secondary   3337\n",
    "\n",
    "2) tertiary    2551\n",
    "\n",
    "0) primary 826\n",
    "\n",
    "\n",
    "---\n",
    "\n"
   ]
  },
  {
   "cell_type": "markdown",
   "metadata": {
    "id": "W3fLHIbk1xkv"
   },
   "source": [
    "**Credit and Loan Analyst**"
   ]
  },
  {
   "cell_type": "code",
   "execution_count": null,
   "metadata": {
    "colab": {
     "base_uri": "https://localhost:8080/",
     "height": 404
    },
    "id": "18DWMWSgyKpZ",
    "outputId": "4348448b-db5f-491c-86be-e75fef03844d"
   },
   "outputs": [],
   "source": [
    "import matplotlib.pyplot as plt\n",
    "\n",
    "# Siapkan data\n",
    "default_counts = X_train['default'].value_counts()\n",
    "housing_counts = X_train['housing'].value_counts()\n",
    "loan_counts = X_train['loan'].value_counts()\n",
    "\n",
    "# Warna sama dengan Plotly\n",
    "colors = ['crimson', 'forestgreen']\n",
    "\n",
    "# Fungsi untuk format label\n",
    "def make_autopct(values):\n",
    "    def autopct(pct):\n",
    "        count = int(round(pct / 100. * sum(values)))\n",
    "        return f'{pct:.1f}%\\n({count})'\n",
    "    return autopct\n",
    "\n",
    "# Plot\n",
    "fig, axes = plt.subplots(1, 3, figsize=(18, 6))\n",
    "fig.suptitle('Credit and Loan Analysis', fontsize=16, fontweight='bold', fontfamily='serif')\n",
    "\n",
    "# Donut 1: Credit in Default\n",
    "axes[0].pie(default_counts, labels=default_counts.index, colors=colors,\n",
    "            autopct=make_autopct(default_counts), startangle=90, wedgeprops=dict(width=0.4, edgecolor='black'))\n",
    "axes[0].set_title('Credit in Default', fontsize=14, fontfamily='serif')\n",
    "\n",
    "# Donut 2: Housing Loan\n",
    "axes[1].pie(housing_counts, labels=housing_counts.index, colors=colors,\n",
    "            autopct=make_autopct(housing_counts), startangle=90, wedgeprops=dict(width=0.4, edgecolor='black'))\n",
    "axes[1].set_title('Housing Loan', fontsize=14, fontfamily='serif')\n",
    "\n",
    "# Donut 3: Personal Loan\n",
    "axes[2].pie(loan_counts, labels=loan_counts.index, colors=colors,\n",
    "            autopct=make_autopct(loan_counts), startangle=90, wedgeprops=dict(width=0.4, edgecolor='black'))\n",
    "axes[2].set_title('Personal Loan', fontsize=14, fontfamily='serif')\n",
    "\n",
    "plt.tight_layout()\n",
    "plt.subplots_adjust(top=0.85)  # beri ruang untuk judul atas\n",
    "plt.show()"
   ]
  },
  {
   "cell_type": "markdown",
   "metadata": {
    "id": "-3XcrR523II4"
   },
   "source": [
    "**Top Credit in Default**\n",
    "* (0) No        6640 (98.9%)\n",
    "* (1) yes        74 (1.1%)\n",
    "\n",
    "**Top Housing Loan**\n",
    "* (0) No        3915 (58.3%)\n",
    "* (1) yes        2799 (41.7%)\n",
    "\n",
    "**Top Personal Loan**\n",
    "* (0) No        5822 (86.7%)\n",
    "* (1) yes        892 (13.3%)\n",
    "\n",
    "\n",
    "\n",
    "INSIGHT\n",
    "* **98.9 %** customers in the bank doesn't have Credit in Default\n",
    "* **58.3 %** customers in the bank doesn't have Housing Loan\n",
    "* **86.7 %** customers in the bank doesn't have Personal Loan\n",
    "* on comparing with **Personal Loan** and **Housing Loan**, Most of the **clients subscribed** for **Housing Loan** - **41.7%**\n",
    "\n",
    "\n",
    "---\n",
    "\n",
    "\n"
   ]
  },
  {
   "cell_type": "markdown",
   "metadata": {
    "id": "cVbeuBwh6JpY"
   },
   "source": [
    "**Contact of the Customers**"
   ]
  },
  {
   "cell_type": "code",
   "execution_count": null,
   "metadata": {
    "colab": {
     "base_uri": "https://localhost:8080/",
     "height": 807
    },
    "id": "4A1EUVS26R9U",
    "outputId": "ab67eb4b-d936-4e2b-e86e-b08fa1f70c10"
   },
   "outputs": [],
   "source": [
    "contact_map = {\n",
    "    0: 'cellular',\n",
    "    1: 'telephone'\n",
    "}\n",
    "\n",
    "X_train['contact'] = X_train['contact'].map(contact_map)\n",
    "\n",
    "# Ambil data dari kolom 'contact' di X_train\n",
    "contact_count = X_train['contact'].value_counts()\n",
    "label_contact = contact_count.index\n",
    "count_contact = contact_count.values\n",
    "\n",
    "colors = ['crimson', 'forestgreen']\n",
    "\n",
    "# Fungsi untuk menampilkan persentase + count\n",
    "def make_autopct(counts):\n",
    "    def my_autopct(pct):\n",
    "        total = sum(counts)\n",
    "        val = int(round(pct * total / 100.0))\n",
    "        return f'{pct:.1f}%\\n({val})'\n",
    "    return my_autopct\n",
    "\n",
    "# Plot pie chart\n",
    "plt.figure(figsize=(8, 8))\n",
    "plt.pie(count_contact, labels=None, autopct=make_autopct(count_contact),\n",
    "        colors=colors, startangle=90, textprops={'fontsize': 12})\n",
    "plt.title('Contact Type of the Customers')\n",
    "\n",
    "# Tambahkan legenda\n",
    "plt.legend(labels=label_contact, title=\"Contact Type\", loc='center left', bbox_to_anchor=(1, 0.5))\n",
    "plt.axis('equal')\n",
    "plt.tight_layout()\n",
    "plt.show()\n"
   ]
  },
  {
   "cell_type": "markdown",
   "metadata": {
    "id": "uaa3SP6X8gUI"
   },
   "source": [
    "**Top Contact of the Costumers**\n",
    "\n",
    "* cellular    6138 (91.4%)\n",
    "* telephone    576 (8.6%)\n",
    "\n",
    "**INSIGHT**\n",
    "* Most of the customers in the bank are contacted through Cellular **91.4%**\n",
    "* only **8.6%** of the clients are contacted through telephone\n",
    "\n",
    "\n",
    "---\n",
    "\n"
   ]
  },
  {
   "cell_type": "markdown",
   "metadata": {
    "id": "8bIU3b7rBua_"
   },
   "source": [
    "**Last Contact Month of the year**"
   ]
  },
  {
   "cell_type": "code",
   "execution_count": null,
   "metadata": {
    "colab": {
     "base_uri": "https://localhost:8080/",
     "height": 607
    },
    "id": "uwxW-tszB2hJ",
    "outputId": "149e3cc1-9d88-4b42-eec1-37bc4179ba3f"
   },
   "outputs": [],
   "source": [
    "# Hitung jumlah tiap bulan\n",
    "\n",
    "month_map = {\n",
    "    0: 'apr',\n",
    "    1: 'aug',\n",
    "    2: 'dec',\n",
    "    3: 'feb',\n",
    "    4: 'jan',\n",
    "    5: 'jul',\n",
    "    6: 'jun',\n",
    "    7: 'mar',\n",
    "    8: 'may',\n",
    "    9: 'nov',\n",
    "    10: 'oct',\n",
    "    11: 'sep',\n",
    "}\n",
    "\n",
    "X_train['month'] = X_train['month'].map(month_map)\n",
    "\n",
    "month_counts = X_train['month'].value_counts().reset_index()\n",
    "month_counts.columns = ['month', 'Count']\n",
    "month_counts = month_counts.sort_values(by='Count', ascending=False)\n",
    "\n",
    "# Atur urutan kategori sesuai urutan Count\n",
    "month_counts['month'] = pd.Categorical(month_counts['month'], categories=month_counts['month'], ordered=True)\n",
    "\n",
    "# Plot\n",
    "plt.figure(figsize=(10,6))\n",
    "ax = sns.barplot(data=month_counts, x='month', y='Count', palette='vlag', edgecolor='black')\n",
    "\n",
    "# Tambahkan label nilai di atas bar\n",
    "for p in ax.patches:\n",
    "    height = p.get_height()\n",
    "    ax.annotate(f'{int(height)}',\n",
    "                (p.get_x() + p.get_width() / 2, height),\n",
    "                ha='center', va='bottom', fontsize=10)\n",
    "\n",
    "# Tambahkan info visual\n",
    "plt.title('Last Contact Month of the Year', fontsize=14, fontweight='bold', fontfamily='serif')\n",
    "plt.xlabel('Month', fontsize=12)\n",
    "plt.ylabel('Count', fontsize=12)\n",
    "plt.tight_layout()\n",
    "plt.show()\n"
   ]
  },
  {
   "cell_type": "markdown",
   "metadata": {
    "id": "sLkFX1jTFYMx"
   },
   "source": [
    "* Most of the clients in the bank are contacted in the months of May, Jul,nov,apr,feb and in Aug last year.\n",
    "* very few of the clients are contacted in the months of Sep, Mar and in Dec"
   ]
  },
  {
   "cell_type": "markdown",
   "metadata": {
    "id": "QZKMzrHRLxPB"
   },
   "source": [
    "### **Term Deposits based on Marital Status**"
   ]
  },
  {
   "cell_type": "code",
   "execution_count": null,
   "metadata": {
    "colab": {
     "base_uri": "https://localhost:8080/",
     "height": 404
    },
    "id": "z-PoSS3fMf8p",
    "outputId": "91d0f0a5-9d6b-433a-a148-9e67fe495990"
   },
   "outputs": [],
   "source": [
    "import matplotlib.pyplot as plt\n",
    "\n",
    "mapping = {\n",
    "    0: 'divorced',\n",
    "    1: 'married',\n",
    "    2: 'single'\n",
    "}\n",
    "df['marital'] = df['marital'].map(mapping)\n",
    "\n",
    "# Grup data\n",
    "d = df.groupby(['marital', 'deposit'], as_index=False)['age'].count().rename(columns={'age': 'Count'})\n",
    "\n",
    "# Ambil nilai unik marital (agar tidak hardcode)\n",
    "statuses = d['marital'].unique()\n",
    "colors = ['crimson', 'forestgreen']  # Updated color list\n",
    "\n",
    "\n",
    "# Buat plot\n",
    "fig, axs = plt.subplots(1, len(statuses), figsize=(18, 6))\n",
    "fig.suptitle('Term Deposits based on Marital Status', fontsize=16, fontweight='bold')\n",
    "\n",
    "for i, status in enumerate(statuses):\n",
    "    data = d[d['marital'] == status]\n",
    "    axs[i].pie(data['Count'],\n",
    "               labels=data['deposit'],\n",
    "               autopct=lambda pct: f\"{pct:.1f}%\\n({int(round(pct/100.*sum(data['Count'])))})\",\n",
    "               colors=colors,\n",
    "               startangle=90,\n",
    "               wedgeprops={'edgecolor': 'black'})\n",
    "    axs[i].set_title(status.capitalize())\n",
    "\n",
    "plt.tight_layout()\n",
    "plt.subplots_adjust(top=0.85)\n",
    "plt.show()\n"
   ]
  },
  {
   "cell_type": "markdown",
   "metadata": {
    "id": "oYxM1LzAYef4"
   },
   "source": [
    "* Out of **divorced** Clients, **45.5%** are subscribed and **54.5%** are not subscribed to the term deposits\n",
    "* Out of **married** Clients, **50.0%** are subscribed and **50.0%** are not subscribed to the term deposits\n",
    "* Out of **single** Clients, **40.0%** are subscribed and **60%** are not subscribed to the term deposits"
   ]
  },
  {
   "cell_type": "markdown",
   "metadata": {
    "id": "5bL-kSi3ZfBD"
   },
   "source": [
    "### **Term Deposits based on Job Type**"
   ]
  },
  {
   "cell_type": "code",
   "execution_count": null,
   "metadata": {
    "colab": {
     "base_uri": "https://localhost:8080/",
     "height": 542
    },
    "id": "TZw1xb6SNoeA",
    "outputId": "78c24fc8-7da9-4e92-91f0-02e9e232a3d2"
   },
   "outputs": [],
   "source": [
    "import plotly.io as pio\n",
    "\n",
    "pio.renderers.default = 'colab'\n",
    "\n",
    "job_mapping = {\n",
    "    0: 'admin.',\n",
    "    1: 'blue-collar',\n",
    "    2: 'entrepreneur',\n",
    "    3: 'housemaid',\n",
    "    4: 'management',\n",
    "    5: 'retired',\n",
    "    6: 'self-employed',\n",
    "    7: 'services',\n",
    "    8: 'student',\n",
    "    9: 'technician',\n",
    "    10: 'unemployed'\n",
    "}\n",
    "\n",
    "deposit_mapping = {\n",
    "    0: 'no',\n",
    "    1: 'yes'\n",
    "}\n",
    "\n",
    "# Terapkan mapping ke kolom 'job'\n",
    "df['job'] = df['job'].map(job_mapping)\n",
    "df['deposit'] = df['deposit'].map(deposit_mapping)\n",
    "\n",
    "fig=px.treemap(df.groupby(['job','deposit'],as_index=False)['age'].count().rename(columns={'age':'Count'}),path=['job','deposit','Count'],template='simple_white')\n",
    "fig.update_layout(title_x=0.5,template='simple_white',title_text='<b style=\"color:black; font-size:100%;\">Treemap on count of clients who subscribed the Term Deposits or not based on Job',font_family=\"Times New Roman\",title_font_family=\"Times New Roman\")\n",
    "fig.update_traces(marker=dict(line=dict(color='#000000', width=1)))\n",
    "fig.show()"
   ]
  },
  {
   "cell_type": "markdown",
   "metadata": {
    "id": "urjlx8zvdso6"
   },
   "source": [
    "### **Effect of Age on Term Deposits**"
   ]
  },
  {
   "cell_type": "code",
   "execution_count": null,
   "metadata": {
    "colab": {
     "base_uri": "https://localhost:8080/",
     "height": 569
    },
    "id": "LC0NAg06ZxkQ",
    "outputId": "9255bd11-8ad7-4106-a7e4-fa32897a7449"
   },
   "outputs": [],
   "source": [
    "# Group dan rename\n",
    "grouped_df = df.groupby(['age', 'deposit'], as_index=False)['job'].count().rename(columns={'job': 'Count'})\n",
    "\n",
    "# Pivot agar setiap kategori 'deposit' menjadi kolom (yes/no)\n",
    "pivot_df = grouped_df.pivot(index='age', columns='deposit', values='Count').fillna(0)\n",
    "\n",
    "# Plot\n",
    "plt.figure(figsize=(12, 6))\n",
    "plt.plot(pivot_df.index, pivot_df['yes'], label='yes', color='ForestGreen')\n",
    "plt.plot(pivot_df.index, pivot_df['no'], label='no', color='DarkBlue')\n",
    "\n",
    "# Formatting\n",
    "plt.title('Effect of Age on Term Deposits', fontsize=16, fontname='serif', weight='bold', loc='left')\n",
    "plt.xlabel('Age', fontsize=12, fontname='serif')\n",
    "plt.ylabel('Count', fontsize=12, fontname='serif')\n",
    "plt.legend(title='Term Deposit', title_fontsize=12, fontsize=10)\n",
    "plt.grid(True, linestyle='--', alpha=0.5)\n",
    "plt.xticks(fontname='serif')\n",
    "plt.yticks(fontname='serif')\n",
    "plt.tight_layout()\n",
    "plt.show()"
   ]
  },
  {
   "cell_type": "markdown",
   "metadata": {
    "id": "-CdHUmWnem4c"
   },
   "source": [
    "**Insight**\n",
    "\n",
    "1. The peak number of customers is at the age of 30-35 years, for both yes and no.\n",
    "\n",
    "2. Younger customers (< 30) tend to be more non-subscribers.\n",
    "\n",
    "3. After the age of 30-35, the number of clients decreases for all categories.\n",
    "\n",
    "4. At older ages (60+), the number of clients decreases drastically, but the percentage of \"yes\" is relatively greater than \"no\", although the total is small."
   ]
  },
  {
   "cell_type": "markdown",
   "metadata": {
    "id": "v_xZG7t6f1Oj"
   },
   "source": [
    "### **Effect of Duration on Term Deposits**"
   ]
  },
  {
   "cell_type": "code",
   "execution_count": null,
   "metadata": {
    "colab": {
     "base_uri": "https://localhost:8080/",
     "height": 607
    },
    "id": "KXsu7NJUgyad",
    "outputId": "2a384439-1df7-4938-df40-3830a84e4302"
   },
   "outputs": [],
   "source": [
    "# 1. Buat kolom kategori durasi\n",
    "df['Duration'] = df['duration'].apply(lambda x: 'Above_Average_Duration' if x >= df['duration'].mean() else 'Below_Average_Duration')\n",
    "\n",
    "# 2. Group dan hitung\n",
    "a = df.groupby(['Duration', 'deposit'], as_index=False)['age'].count().rename(columns={'age': 'Count'})\n",
    "\n",
    "# 3. Hitung persentase\n",
    "a['percent'] = round(a['Count'] * 100 / a.groupby('Duration')['Count'].transform('sum'), 1)\n",
    "a['percent_label'] = a['percent'].apply(lambda x: f'{x}%')\n",
    "\n",
    "# 4. Pivot untuk visualisasi\n",
    "pivot_df = a.pivot(index='Duration', columns='deposit', values='Count').fillna(0)\n",
    "percent_labels = a.pivot(index='Duration', columns='deposit', values='percent_label')\n",
    "\n",
    "# 5. Plot bar chart\n",
    "fig, ax = plt.subplots(figsize=(10, 6))\n",
    "bar_width = 0.35\n",
    "index = np.arange(len(pivot_df))\n",
    "\n",
    "# Bar\n",
    "bar1 = ax.bar(index - bar_width/2, pivot_df['no'], bar_width, label='no', color='MediumPurple', edgecolor='black')\n",
    "bar2 = ax.bar(index + bar_width/2, pivot_df['yes'], bar_width, label='yes', color='YellowGreen', edgecolor='black')\n",
    "\n",
    "# Tambahkan persentase di atas bar\n",
    "for i in range(len(index)):\n",
    "    ax.text(index[i] - bar_width/2, pivot_df['no'].iloc[i] + 2, percent_labels['no'].iloc[i], ha='center', fontsize=10, fontname='serif')\n",
    "    ax.text(index[i] + bar_width/2, pivot_df['yes'].iloc[i] + 2, percent_labels['yes'].iloc[i], ha='center', fontsize=10, fontname='serif')\n",
    "\n",
    "# Pengaturan tampilan\n",
    "ax.set_xticks(index)\n",
    "ax.set_xticklabels(pivot_df.index, fontname='serif')\n",
    "ax.set_ylabel('Count', fontname='serif')\n",
    "ax.set_title('Effect of Duration on Term Deposits\\nBy taking the above average duration and below average duration', fontsize=14, fontname='serif', loc='left', weight='bold')\n",
    "ax.legend(title='Deposit Status', title_fontsize=12)\n",
    "plt.grid(axis='y', linestyle='--', alpha=0.5)\n",
    "plt.tight_layout()\n",
    "plt.show()\n"
   ]
  },
  {
   "cell_type": "markdown",
   "metadata": {
    "id": "XFSUUbrmhZtk"
   },
   "source": [
    "* if the duration is **above average** then **81.0 %** of clients are **subscribed** to term deposits and **19.0 %** are **not subscribed**\n",
    "* if the duration is **below average** then **39.1%** of clients are **subscribed** to term deposits and  **60.9 %** are **not subscribed**"
   ]
  },
  {
   "cell_type": "markdown",
   "metadata": {
    "id": "XfTBYANppYhL"
   },
   "source": [
    "### **Deposits based on last Contact month**"
   ]
  },
  {
   "cell_type": "code",
   "execution_count": null,
   "metadata": {
    "colab": {
     "base_uri": "https://localhost:8080/",
     "height": 607
    },
    "id": "2sHZLZPtmwZy",
    "outputId": "c1ed2c89-e066-4735-be3e-5d1f9fd8eafb"
   },
   "outputs": [],
   "source": [
    "import matplotlib.pyplot as plt\n",
    "import numpy as np\n",
    "\n",
    "month_mapping = {\n",
    "    0: 'apr',\n",
    "    1: 'aug',\n",
    "    2: 'dec',\n",
    "    3: 'feb',\n",
    "    4: 'jan',\n",
    "    5: 'jul',\n",
    "    6: 'jun',\n",
    "    7: 'mar',\n",
    "    8: 'may',\n",
    "    9: 'nov',\n",
    "    10: 'oct',\n",
    "    11: 'sep',\n",
    "}\n",
    "df['month'] = df['month'].map(month_mapping)\n",
    "\n",
    "a=df.groupby(['month','deposit'],as_index=False)['age'].count().rename(columns={'age':'Count'})\n",
    "# Assuming 'a' is already prepared as in your original code\n",
    "a['percent'] = round(a['Count'] * 100 / a.groupby('month')['Count'].transform('sum'), 1)\n",
    "a['percent'] = a['percent'].apply(lambda x: f'{x}%')\n",
    "\n",
    "# Define colors\n",
    "colors = ['MediumPurple', 'YellowGreen']\n",
    "\n",
    "# Create the bar plot\n",
    "fig, ax = plt.subplots(figsize=(10, 6))\n",
    "\n",
    "# Iterate through the data and plot the bars for each 'deposit' category\n",
    "for idx, deposit in enumerate(a['deposit'].unique()):\n",
    "    deposit_data = a[a['deposit'] == deposit]\n",
    "    bar_width = 0.35\n",
    "    positions = np.arange(len(deposit_data)) + bar_width * idx\n",
    "    ax.bar(positions, deposit_data['Count'], width=bar_width, label=deposit, color=colors[idx])\n",
    "\n",
    "    # Add text labels (percent) on top of each bar\n",
    "    for i, count in enumerate(deposit_data['Count']):\n",
    "        ax.text(positions[i], count + 2, deposit_data['percent'].iloc[i], ha='center', va='bottom', fontsize=9)\n",
    "\n",
    "# Set titles and labels\n",
    "ax.set_title('Deposits based on last Contact month', fontsize=16, fontweight='bold', family=\"serif\")\n",
    "ax.set_xlabel('Month', fontsize=12, family=\"serif\")\n",
    "ax.set_ylabel('Count', fontsize=12, family=\"serif\")\n",
    "ax.set_xticks(np.arange(len(a['month'].unique())))\n",
    "ax.set_xticklabels(a['month'].unique(), rotation=45, ha='right', fontsize=10, family=\"serif\")\n",
    "\n",
    "# Customize the legend\n",
    "ax.legend(title=\"Deposit\", fontsize=12)\n",
    "\n",
    "# Add gridlines and format\n",
    "ax.grid(True, axis='y', linestyle='--', alpha=0.7)\n",
    "plt.tight_layout()\n",
    "\n",
    "# Show the plot\n",
    "plt.show()"
   ]
  },
  {
   "cell_type": "markdown",
   "metadata": {
    "id": "gEidiOsFq5CX"
   },
   "source": [
    "**Insight**\n",
    "* Most of the clients in the bank are contacted in the months of May, Jun, Jul and in Aug last year. More Clients subscribed to term deposits in this months only.\n",
    "* very few of the clients are contacted in the months of Sep, Mar and in Dec. Even less contacts performed in these months, more number of clients subscribed to term deposits in these months. It is better to Contact clients more in this months."
   ]
  },
  {
   "cell_type": "markdown",
   "metadata": {
    "id": "14MGdCwrrHL4"
   },
   "source": [
    "## **Modelling**"
   ]
  },
  {
   "cell_type": "markdown",
   "metadata": {
    "id": "WDhLhwavrL7L"
   },
   "source": [
    "### **Scalling**"
   ]
  },
  {
   "cell_type": "code",
   "execution_count": null,
   "metadata": {
    "colab": {
     "base_uri": "https://localhost:8080/",
     "height": 611
    },
    "id": "zEDGfBZ4sYbN",
    "outputId": "6eb15821-3c85-4235-a8da-b88a8ffdd8f6"
   },
   "outputs": [],
   "source": [
    "categorical_cols = df.select_dtypes(include=['object']).columns\n",
    "label_encoder = LabelEncoder()\n",
    "df[categorical_cols] = df[categorical_cols].apply(label_encoder.fit_transform)\n",
    "df.T"
   ]
  },
  {
   "cell_type": "code",
   "execution_count": null,
   "metadata": {
    "colab": {
     "base_uri": "https://localhost:8080/"
    },
    "id": "vD2vRosGsjn7",
    "outputId": "7d16007b-2989-4c55-c2c4-58cd24169145"
   },
   "outputs": [],
   "source": [
    "X = df.drop('deposit', axis=1)\n",
    "y = df['deposit']\n",
    "X_train, X_test, y_train, y_test = train_test_split(X, y, test_size=0.2, random_state=42)\n",
    "print(X_train.shape)\n",
    "print(X_test.shape)"
   ]
  },
  {
   "cell_type": "code",
   "execution_count": null,
   "metadata": {
    "id": "6xkbjJ3xr8I6"
   },
   "outputs": [],
   "source": [
    "from re import S\n",
    "scaler = StandardScaler()\n",
    "X_train = scaler.fit_transform(X_train)\n",
    "X_test = scaler.transform(X_test)"
   ]
  },
  {
   "cell_type": "markdown",
   "metadata": {
    "id": "XW9zyNukwi-s"
   },
   "source": [
    "### **Lazy Classifier**"
   ]
  },
  {
   "cell_type": "code",
   "execution_count": null,
   "metadata": {
    "colab": {
     "base_uri": "https://localhost:8080/",
     "height": 1000,
     "referenced_widgets": [
      "55ece2dc80304b179b4704053a70d4b5",
      "fa3d32c00679459185664675ddd9aba6",
      "73ed0d2802c84b3a85a1c600d8399d3e",
      "2f3dc159e8ab4e56a6edab36fe2d3dac",
      "985adb40d664449e84a6b2c7b13e5741",
      "15c24d9f9050403aa45b003c6206965b",
      "634c0cac89a24712bc79da76e0627ebc",
      "9cbb71e0bfa8446b9e9b2e4b60626313",
      "26ab5b78a3ec4a3885996faeff2f06ab",
      "a3047a587f5f455a8c5ba0327b529057",
      "5cd77bc782894ba5b31f24ae528ea679"
     ]
    },
    "id": "-lWdVOwdszJb",
    "outputId": "94717358-ee0e-4682-a83c-f8c0901e0eb8"
   },
   "outputs": [],
   "source": [
    "clf = LazyClassifier(predictions = True)\n",
    "models, predictions = clf.fit(X_train, X_test, y_train, y_test)\n",
    "models"
   ]
  },
  {
   "cell_type": "markdown",
   "metadata": {
    "id": "5u_BLZJT5eqE"
   },
   "source": [
    "### **Random Forest Classifier**"
   ]
  },
  {
   "cell_type": "code",
   "execution_count": null,
   "metadata": {
    "colab": {
     "base_uri": "https://localhost:8080/"
    },
    "id": "4BkUGpw75wJk",
    "outputId": "dd418e1c-3ef4-49c8-afab-0b7f114fb194"
   },
   "outputs": [],
   "source": [
    "re = RandomForestClassifier()\n",
    "re.fit(X_train, y_train)\n",
    "y_pred = re.predict(X_test)\n",
    "print(classification_report(y_test, y_pred))\n"
   ]
  },
  {
   "cell_type": "code",
   "execution_count": null,
   "metadata": {
    "colab": {
     "base_uri": "https://localhost:8080/"
    },
    "id": "DVpBi0o-TeFK",
    "outputId": "fb7dc7e3-551f-4a70-c82c-af7afb04022e"
   },
   "outputs": [],
   "source": [
    "#cek train test random forest\n",
    "train_acc = re.score(X_train, y_train)\n",
    "test_acc = re.score(X_test, y_test)\n",
    "print('Train Accuracy:', train_acc)\n",
    "print('Test Accuracy:', test_acc)"
   ]
  },
  {
   "cell_type": "markdown",
   "metadata": {
    "id": "gR-67-xeify-"
   },
   "source": [
    "**Model Overfitting**\n",
    "\n",
    "---\n",
    "\n"
   ]
  },
  {
   "cell_type": "markdown",
   "metadata": {
    "id": "QOk64zFGM2KL"
   },
   "source": [
    "**Hyperparameter Tuning**"
   ]
  },
  {
   "cell_type": "markdown",
   "metadata": {
    "id": "7eibzpfYMzIN"
   },
   "source": [
    "\n",
    "\n",
    "---\n",
    "\n"
   ]
  },
  {
   "cell_type": "code",
   "execution_count": null,
   "metadata": {
    "colab": {
     "base_uri": "https://localhost:8080/"
    },
    "id": "XHn3G_4hFLyl",
    "outputId": "2169c125-9c10-4503-e8bb-ebbed0bd0c13"
   },
   "outputs": [],
   "source": [
    "modelre1 = RandomForestClassifier(\n",
    "    n_estimators=100,\n",
    "    max_depth=10,\n",
    "    min_samples_split=5,\n",
    "    min_samples_leaf=4,\n",
    "    max_features='sqrt',\n",
    "    random_state=42\n",
    "    )\n",
    "modelre1.fit(X_train, y_train)\n",
    "y_pred = modelre1.predict(X_test)\n",
    "print(classification_report(y_test, y_pred))"
   ]
  },
  {
   "cell_type": "code",
   "execution_count": null,
   "metadata": {
    "colab": {
     "base_uri": "https://localhost:8080/"
    },
    "id": "iWZk8Ab0FStj",
    "outputId": "69c76776-bb35-41d2-fa69-56b957899faa"
   },
   "outputs": [],
   "source": [
    "train_acc = modelre1.score(X_train, y_train)\n",
    "test_acc = modelre1.score(X_test, y_test)\n",
    "print('Train Accuracy:', train_acc)\n",
    "print('Test Accuracy:', test_acc)"
   ]
  },
  {
   "cell_type": "markdown",
   "metadata": {
    "id": "AtfRhrkYix7u"
   },
   "source": [
    "### **LGBMClassifier**"
   ]
  },
  {
   "cell_type": "code",
   "execution_count": null,
   "metadata": {
    "colab": {
     "base_uri": "https://localhost:8080/"
    },
    "id": "cDA5zE4ri5R-",
    "outputId": "7549ef44-035d-41e2-851e-d448634db67c"
   },
   "outputs": [],
   "source": [
    "lgm = LGBMClassifier()\n",
    "lgm.fit(X_train, y_train)\n",
    "y_pred = lgm.predict(X_test)\n",
    "print(classification_report(y_test, y_pred))"
   ]
  },
  {
   "cell_type": "code",
   "execution_count": null,
   "metadata": {
    "colab": {
     "base_uri": "https://localhost:8080/"
    },
    "id": "iqBZOroejs2v",
    "outputId": "d53da735-f30b-457e-df17-82e8dfcc723b"
   },
   "outputs": [],
   "source": [
    "train_acc = lgm.score(X_train, y_train)\n",
    "test_acc = lgm.score(X_test, y_test)\n",
    "print('Train Accuracy:', train_acc)\n",
    "print('Test Accuracy:', test_acc)\n",
    "#"
   ]
  },
  {
   "cell_type": "markdown",
   "metadata": {
    "id": "TLKIDEUzNflk"
   },
   "source": [
    "**Hyperparameter Tuning**"
   ]
  },
  {
   "cell_type": "code",
   "execution_count": null,
   "metadata": {
    "colab": {
     "base_uri": "https://localhost:8080/"
    },
    "id": "3RyAR_mTkAev",
    "outputId": "7b33c53a-da8a-4932-fd34-156e174dd573"
   },
   "outputs": [],
   "source": [
    "modellgbm = LGBMClassifier(\n",
    "    n_estimators=100,          # jumlah pohon\n",
    "    max_depth=10,              # batasi kedalaman pohon\n",
    "    min_samples_split=5,       # min sample untuk split\n",
    "    min_samples_leaf=4,        # min sample di daun\n",
    "    max_features='sqrt',       # fitur yang dipilih setiap split\n",
    "    random_state=42\n",
    ")\n",
    "modellgbm.fit(X_train, y_train)\n",
    "y_pred = modellgbm.predict(X_test)\n",
    "print(classification_report(y_test, y_pred))\n",
    "#"
   ]
  },
  {
   "cell_type": "code",
   "execution_count": null,
   "metadata": {
    "colab": {
     "base_uri": "https://localhost:8080/"
    },
    "id": "J9NuwF5XkKHn",
    "outputId": "223f0f3c-df87-40ec-931a-b65da2b21982"
   },
   "outputs": [],
   "source": [
    "train_acc = modellgbm.score(X_train, y_train)\n",
    "test_acc = modellgbm.score(X_test, y_test)\n",
    "print('Train Accuracy:', train_acc)\n",
    "print('Test Accuracy:', test_acc)\n",
    "#"
   ]
  },
  {
   "cell_type": "markdown",
   "metadata": {
    "id": "HgsFGtLlpiAO"
   },
   "source": [
    "### **Logistic Regression**"
   ]
  },
  {
   "cell_type": "code",
   "execution_count": null,
   "metadata": {
    "colab": {
     "base_uri": "https://localhost:8080/"
    },
    "id": "DAT68w2FphHP",
    "outputId": "2d201ee9-85b1-466c-c190-8fad10097901"
   },
   "outputs": [],
   "source": [
    "lr = LogisticRegression()\n",
    "lr.fit(X_train, y_train)\n",
    "y_pred = lr.predict(X_test)\n",
    "print(classification_report(y_test, y_pred))\n",
    "#"
   ]
  },
  {
   "cell_type": "code",
   "execution_count": null,
   "metadata": {
    "colab": {
     "base_uri": "https://localhost:8080/"
    },
    "id": "r1x2nw6z0ILq",
    "outputId": "27e296b8-3fe1-4069-d164-226dae001c2c"
   },
   "outputs": [],
   "source": [
    "train_acc = lr.score(X_train, y_train)\n",
    "test_acc = lr.score(X_test, y_test)\n",
    "print('Train Accuracy:', train_acc)\n",
    "print('Test Accuracy:', test_acc)\n",
    "#"
   ]
  },
  {
   "cell_type": "markdown",
   "metadata": {
    "id": "cCqwTqKHN0Ik"
   },
   "source": [
    "\n",
    "\n",
    "---\n",
    "\n"
   ]
  },
  {
   "cell_type": "code",
   "execution_count": null,
   "metadata": {
    "colab": {
     "base_uri": "https://localhost:8080/"
    },
    "id": "_bM8nkQXKRns",
    "outputId": "ff985493-7a41-405e-b755-a2c70f93409d"
   },
   "outputs": [],
   "source": [
    "# hyperparameter tuning\n",
    "modellr = LogisticRegression(\n",
    "    C=0.1,\n",
    "    penalty='l2',\n",
    "    solver='liblinear',\n",
    "    max_iter=50,\n",
    "    random_state=42\n",
    ")\n",
    "modellr.fit(X_train, y_train)\n",
    "y_pred = modellr.predict(X_test)\n",
    "print(classification_report(y_test, y_pred))\n",
    "#"
   ]
  },
  {
   "cell_type": "code",
   "execution_count": null,
   "metadata": {
    "colab": {
     "base_uri": "https://localhost:8080/"
    },
    "id": "bOPTfcJhKjJC",
    "outputId": "f323026a-f36d-4f77-b92b-5af3afb8b416"
   },
   "outputs": [],
   "source": [
    "train_acc = modellr.score(X_train, y_train)\n",
    "test_acc = modellr.score(X_test, y_test)\n",
    "print('Train Accuracy:', train_acc)\n",
    "print('Test Accuracy:', test_acc)\n",
    "#"
   ]
  },
  {
   "cell_type": "markdown",
   "metadata": {
    "id": "e41T8YpZ09pC"
   },
   "source": [
    "### **XGBClassifier**"
   ]
  },
  {
   "cell_type": "code",
   "execution_count": null,
   "metadata": {
    "colab": {
     "base_uri": "https://localhost:8080/"
    },
    "id": "JmqfS1DR0xAN",
    "outputId": "b97072df-a4d5-4afe-860c-f650dc5f39c1"
   },
   "outputs": [],
   "source": [
    "xgbc = XGBClassifier()\n",
    "xgbc.fit(X_train, y_train)\n",
    "y_pred = xgbc.predict(X_test)\n",
    "print(classification_report(y_test, y_pred))\n",
    "#"
   ]
  },
  {
   "cell_type": "code",
   "execution_count": null,
   "metadata": {
    "colab": {
     "base_uri": "https://localhost:8080/"
    },
    "id": "DIgY2SaF1KXa",
    "outputId": "99ea1388-93fe-4d30-9813-1b406e85f8de"
   },
   "outputs": [],
   "source": [
    "train_acc = xgbc.score(X_train, y_train)\n",
    "test_acc = xgbc.score(X_test, y_test)\n",
    "print('Train Accuracy:', train_acc)\n",
    "print('Test Accuracy:', test_acc)\n",
    "#"
   ]
  },
  {
   "cell_type": "markdown",
   "metadata": {
    "id": "cOfQqSktOBmD"
   },
   "source": [
    "\n",
    "\n",
    "---\n",
    "\n"
   ]
  },
  {
   "cell_type": "code",
   "execution_count": null,
   "metadata": {
    "colab": {
     "base_uri": "https://localhost:8080/"
    },
    "id": "lW4EwNYBF1fj",
    "outputId": "3aa0d4dd-9f2b-407b-a003-71c63bc93eca"
   },
   "outputs": [],
   "source": [
    "modelxgb = XGBClassifier(\n",
    "    n_estimators=200,\n",
    "    max_depth=5,\n",
    "    learning_rate=0.1,\n",
    "    subsample=0.8,\n",
    "    colsample_bytree=0.8,\n",
    "    reg_alpha=0.1,\n",
    "    reg_lambda=1,\n",
    "    min_child_weight=3,\n",
    "    random_state=42,\n",
    "    verbosity=1\n",
    ")\n",
    "modelxgb.fit(X_train, y_train)\n",
    "y_pred = modelxgb.predict(X_test)\n",
    "print(classification_report(y_test, y_pred))\n",
    "#"
   ]
  },
  {
   "cell_type": "code",
   "execution_count": null,
   "metadata": {
    "colab": {
     "base_uri": "https://localhost:8080/"
    },
    "id": "RHXbeuOCF7YZ",
    "outputId": "7ec5d757-10f2-4f3f-d324-e16572727b68"
   },
   "outputs": [],
   "source": [
    "train_acc = modelxgb.score(X_train, y_train)\n",
    "test_acc = modelxgb.score(X_test, y_test)\n",
    "print('Train Accuracy:', train_acc)\n",
    "print('Test Accuracy:', test_acc)\n",
    "#"
   ]
  },
  {
   "cell_type": "markdown",
   "metadata": {
    "id": "mYdMb4BCG5os"
   },
   "source": [
    "### **Decision Tree**"
   ]
  },
  {
   "cell_type": "code",
   "execution_count": null,
   "metadata": {
    "colab": {
     "base_uri": "https://localhost:8080/"
    },
    "id": "AwYTv0kQHBlb",
    "outputId": "51b96d0b-4192-4135-8b50-a666c59132e9"
   },
   "outputs": [],
   "source": [
    "dt = DecisionTreeClassifier()\n",
    "dt.fit(X_train, y_train)\n",
    "y_pred = dt.predict(X_test)\n",
    "print(classification_report(y_test, y_pred))\n",
    "#"
   ]
  },
  {
   "cell_type": "code",
   "execution_count": null,
   "metadata": {
    "colab": {
     "base_uri": "https://localhost:8080/"
    },
    "id": "Kc7PeKLYHGk6",
    "outputId": "effec90d-dd72-4406-ed9e-9f2f0602696e"
   },
   "outputs": [],
   "source": [
    "train_acc = dt.score(X_train, y_train)\n",
    "test_acc = dt.score(X_test, y_test)\n",
    "print('Train Accuracy:', train_acc)\n",
    "print('Test Accuracy:', test_acc)\n",
    "#"
   ]
  },
  {
   "cell_type": "markdown",
   "metadata": {
    "id": "2IBTvZAZOZTb"
   },
   "source": [
    "\n",
    "\n",
    "---\n",
    "\n"
   ]
  },
  {
   "cell_type": "code",
   "execution_count": null,
   "metadata": {
    "colab": {
     "base_uri": "https://localhost:8080/"
    },
    "id": "yAfolyGoHITz",
    "outputId": "b0a42568-ba21-47f2-d5c0-2df3dabd72bb"
   },
   "outputs": [],
   "source": [
    "modeldt = DecisionTreeClassifier(\n",
    "    max_depth=10,\n",
    "    min_samples_split=5,\n",
    "    min_samples_leaf=4,\n",
    "    max_features='sqrt',\n",
    "    random_state=42\n",
    ")\n",
    "modeldt.fit(X_train, y_train)\n",
    "y_pred = modeldt.predict(X_test)\n",
    "print(classification_report(y_test, y_pred))\n",
    "#"
   ]
  },
  {
   "cell_type": "code",
   "execution_count": null,
   "metadata": {
    "colab": {
     "base_uri": "https://localhost:8080/"
    },
    "id": "YxBlOar8HN5S",
    "outputId": "7cd22446-758c-4fb6-8f63-0c0ce6feeafc"
   },
   "outputs": [],
   "source": [
    "train_acc = modeldt.score(X_train, y_train)\n",
    "test_acc = modeldt.score(X_test, y_test)\n",
    "print('Train Accuracy:', train_acc)\n",
    "print('Test Accuracy:', test_acc)\n",
    "#"
   ]
  },
  {
   "cell_type": "markdown",
   "metadata": {
    "id": "ZrjsReFxQBfK"
   },
   "source": [
    "## **Evaluate**"
   ]
  },
  {
   "cell_type": "markdown",
   "metadata": {
    "id": "KUJUyzESQqe0"
   },
   "source": [
    "![image.png](data:image/png;base64,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)"
   ]
  },
  {
   "cell_type": "markdown",
   "metadata": {
    "id": "Ta8pxm1xR4D7"
   },
   "source": [
    "**Hyperparameter Tuning**"
   ]
  },
  {
   "cell_type": "markdown",
   "metadata": {
    "id": "7k2GUFGER8Hc"
   },
   "source": [
    "![image.png](data:image/png;base64,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)"
   ]
  },
  {
   "cell_type": "code",
   "execution_count": null,
   "metadata": {
    "colab": {
     "base_uri": "https://localhost:8080/",
     "height": 619
    },
    "id": "LQdIYzZmGcX0",
    "outputId": "ad69202f-2a8c-44f6-f6c8-96ef85c5cf9a"
   },
   "outputs": [],
   "source": [
    "#buat feature important\n",
    "feature_importances = modellgbm.feature_importances_\n",
    "feature_names = X.columns\n",
    "sorted_idx = np.argsort(feature_importances)[::-1]\n",
    "feature_importances = feature_importances[sorted_idx]\n",
    "feature_names = feature_names[sorted_idx]\n",
    "\n",
    "plt.figure(figsize=(10, 6))\n",
    "plt.bar(range(X.shape[1]), feature_importances, align='center')\n",
    "plt.xticks(range(X.shape[1]), feature_names, rotation=90)\n",
    "plt.xlabel('Features')\n",
    "plt.ylabel('Importance')\n",
    "plt.title('Feature Importance')\n",
    "plt.show()"
   ]
  },
  {
   "cell_type": "code",
   "execution_count": null,
   "metadata": {
    "colab": {
     "base_uri": "https://localhost:8080/"
    },
    "id": "gesK1y3p3JzW",
    "outputId": "437b3513-da98-47a2-9a41-1bb10f3edb4e"
   },
   "outputs": [],
   "source": [
    "#buat nilai featur importancenya\n",
    "feature_importances = modellgbm.feature_importances_\n",
    "feature_names = X.columns\n",
    "sorted_idx = np.argsort(feature_importances)[::-1]\n",
    "feature_importances = feature_importances[sorted_idx]\n",
    "feature_names = feature_names[sorted_idx]\n",
    "\n",
    "for feature, importance in zip(feature_names, feature_importances):\n",
    "    print(f\"{feature}: {importance}\")"
   ]
  },
  {
   "cell_type": "code",
   "execution_count": null,
   "metadata": {
    "id": "u0kCLqIcx9Le"
   },
   "outputs": [],
   "source": [
    "import shap\n",
    "import matplotlib.pyplot as plt\n",
    "\n",
    "# Inisialisasi explainer untuk model tree-based (LGBM, XGBoost, RandomForest)\n",
    "explainer = shap.TreeExplainer(modellgbm)\n",
    "\n",
    "# Hitung SHAP values\n",
    "shap_values = explainer.shap_values(X_test)\n"
   ]
  },
  {
   "cell_type": "code",
   "execution_count": null,
   "metadata": {
    "colab": {
     "base_uri": "https://localhost:8080/",
     "height": 797
    },
    "id": "AyvNx0FByI6U",
    "outputId": "95ade729-25cd-4670-f775-a472b5f42478"
   },
   "outputs": [],
   "source": [
    "# Summary plot: Fitur paling penting secara global\n",
    "shap.summary_plot(shap_values, X_test)\n"
   ]
  },
  {
   "cell_type": "code",
   "execution_count": null,
   "metadata": {
    "colab": {
     "base_uri": "https://localhost:8080/",
     "height": 797
    },
    "id": "ri4cgQnkyMtc",
    "outputId": "562ebda9-c584-443c-f249-f30a9ed000ed"
   },
   "outputs": [],
   "source": [
    "# Bar plot: hanya ranking fitur\n",
    "shap.summary_plot(shap_values, X_test, plot_type=\"bar\")\n"
   ]
  },
  {
   "cell_type": "code",
   "execution_count": null,
   "metadata": {
    "id": "MbZGQdj0yRis"
   },
   "outputs": [],
   "source": [
    "# Ganti ini dengan nama kolom asli kamu\n",
    "feature_names = ['age', 'job', 'marital', 'education', 'default', 'balance', 'housing',\n",
    "                 'loan', 'contact', 'day', 'month', 'duration', 'campaign', 'pdays',\n",
    "                 'previous', 'poutcome']\n",
    "\n",
    "# Ubah X_test ke DataFrame\n",
    "X_test = pd.DataFrame(X_test, columns=feature_names)"
   ]
  },
  {
   "cell_type": "code",
   "execution_count": null,
   "metadata": {
    "colab": {
     "base_uri": "https://localhost:8080/",
     "height": 797
    },
    "id": "ecPPpgR20uAO",
    "outputId": "ee7e9d08-4c8e-4e96-bfaa-e27fa19a845f"
   },
   "outputs": [],
   "source": [
    "explainer = shap.TreeExplainer(modellgbm)\n",
    "shap_values = explainer.shap_values(X_test)\n",
    "\n",
    "shap.summary_plot(shap_values, X_test)"
   ]
  },
  {
   "cell_type": "code",
   "execution_count": null,
   "metadata": {
    "colab": {
     "base_uri": "https://localhost:8080/",
     "height": 797
    },
    "id": "Chz3sToJ1JEF",
    "outputId": "60ae3f57-4451-42b2-9a03-2313f959fd6b"
   },
   "outputs": [],
   "source": [
    "shap.summary_plot(shap_values, X_test, plot_type=\"bar\", show=False)\n",
    "# menampilkan nilai shape di dalam bar plot"
   ]
  },
  {
   "cell_type": "code",
   "execution_count": null,
   "metadata": {
    "colab": {
     "base_uri": "https://localhost:8080/",
     "height": 206
    },
    "id": "2MaoP-on7B7G",
    "outputId": "a6db3da8-c2f3-4075-be0d-96f0b88ed5e2"
   },
   "outputs": [],
   "source": [
    "shap_df.head()"
   ]
  },
  {
   "cell_type": "code",
   "execution_count": null,
   "metadata": {
    "colab": {
     "base_uri": "https://localhost:8080/"
    },
    "id": "o6KpTuLV7cqf",
    "outputId": "a6992fbb-c2a6-4e3e-9073-3113fa9e72f4"
   },
   "outputs": [],
   "source": [
    "expected_value = explainer.expected_value  # bisa scalar atau list (untuk multiclass)\n",
    "# SHAP value semua fitur\n",
    "row = shap_values[5]  # SHAP values untuk baris ke-0\n",
    "log_odds = expected_value + row.sum()\n",
    "prob = 1 / (1 + np.exp(-log_odds))\n",
    "print(\"Predicted probability:\", prob)"
   ]
  },
  {
   "cell_type": "code",
   "execution_count": null,
   "metadata": {
    "colab": {
     "base_uri": "https://localhost:8080/",
     "height": 411
    },
    "id": "RLa1Yv58y329",
    "outputId": "e964b547-ace5-48d1-96a7-17f7419f8b6e"
   },
   "outputs": [],
   "source": [
    "shap.initjs()\n",
    "shap.force_plot(explainer.expected_value, shap_values, X_test)"
   ]
  },
  {
   "cell_type": "markdown",
   "metadata": {
    "id": "F_UcXQhZ24HJ"
   },
   "source": [
    "## **Conclution**"
   ]
  },
  {
   "cell_type": "markdown",
   "metadata": {
    "id": "iGJSOErv3Bm1"
   },
   "source": [
    "* Telemarketing call duration\n",
    "\n",
    "➤ The longer the duration, the more likely the customer is interested.\n",
    "\n",
    "➡ Focus on quality conversations.\n",
    "\n",
    "* Campaign time (month & day)\n",
    "\n",
    "➤ There are certain times that are more effective.\n",
    "\n",
    "➡ Schedule campaigns at the best time.\n",
    "\n",
    "* Customer characteristics (age & savings balance)\n",
    "\n",
    "➤ Older customers with large balances are more responsive.\n",
    "\n",
    "➡ Target this segment.\n",
    "\n",
    "* 💡 Other Supporting Factors:\n",
    "\n",
    " * Previous contact history (pdays)\n",
    "\n",
    " * Type of employment and home ownership status\n",
    "\n",
    "* ⚠️ Less Important Factors:\n",
    " * Default (failure to pay)\n",
    "\n",
    " * Type of contact (mobile/home)\n",
    "\n",
    " * Personal loans"
   ]
  },
  {
   "cell_type": "markdown",
   "metadata": {
    "id": "qH5_FUCD3T--"
   },
   "source": [
    "Recommendations:\n",
    "* Train agents to have longer, more effective conversations\n",
    "\n",
    "* Schedule campaigns during the best months/days\n",
    "\n",
    "* Focus on customers with high balances and a certain age\n",
    "\n",
    "* Personalize your approach based on customer data"
   ]
  }
 ],
 "metadata": {
  "colab": {
   "provenance": [],
   "toc_visible": true
  },
  "kernelspec": {
   "display_name": "Python 3",
   "name": "python3"
  },
  "language_info": {
   "name": "python"
  }
 },
 "nbformat": 4,
 "nbformat_minor": 0
}
